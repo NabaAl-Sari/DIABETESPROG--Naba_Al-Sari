{
 "cells": [
  {
   "cell_type": "markdown",
   "metadata": {},
   "source": [
    "# Random Forest algorithm to predict future decline in eGFR"
   ]
  },
  {
   "cell_type": "code",
   "execution_count": null,
   "metadata": {},
   "outputs": [],
   "source": [
    "# Data split in training and test dataset\n",
    "data=PROFIL\n",
    "X = PROFIL.drop('eGFR', axis=1)\n",
    "target = PROFIL['eGFR']\n",
    "X_train,X_test , y_train, y_test = train_test_split(X, target, test_size=0.2)"
   ]
  },
  {
   "cell_type": "code",
   "execution_count": null,
   "metadata": {},
   "outputs": [],
   "source": [
    "# Random Forest model fit\n",
    "rfc=RandomForestClassifier(n_estimators=500)\n",
    "rfc.fit(X_train, y_train)\n",
    "pred_rfc=rfc.predict(X_test)\n",
    "print(pred_rfc)"
   ]
  },
  {
   "cell_type": "code",
   "execution_count": null,
   "metadata": {},
   "outputs": [],
   "source": [
    "# Classification report and confusin matrix\n",
    "print(classification_report(y_test, pred_rfc))\n",
    "print(confusion_matrix(y_test, pred_rfc))"
   ]
  },
  {
   "cell_type": "code",
   "execution_count": null,
   "metadata": {},
   "outputs": [],
   "source": [
    "# SHAP importance for eGFR decline\n",
    "explainer= shap.TreeExplainer(rfc)\n",
    "shap_values= explainer.shap_values(X)\n",
    "\n",
    "#Plot\n",
    "shap.summary_plot(shap_values[0], X) ## keep probabilities for the positive outcome only! eGFR=0!!"
   ]
  },
  {
   "cell_type": "code",
   "execution_count": null,
   "metadata": {},
   "outputs": [],
   "source": [
    "# Run classifier with K-fold cross-validation and plot ROC curves\n",
    "cv = StratifiedKFold(n_splits=6)\n",
    "\n",
    "rfc=RandomForestClassifier(n_estimators=500)\n",
    "rfc.fit(X_train, y_train)\n",
    "pred_rfc=rfc.predict_proba(X_test)[:, 0] ## keep probabilities for the positive outcome only! eGFR=0!!\n",
    "\n",
    "\n",
    "tprs = []\n",
    "aucs = []\n",
    "mean_fpr = np.linspace(0, 1, 100)\n",
    "\n",
    "\n",
    "### plot figure \n",
    "plt.figure(figsize=(10,7), dpi=100)\n",
    "fig, ax = plt.subplots()\n",
    "for i, (train, test) in enumerate(cv.split(X_train, y_train)):  \n",
    "    rfc.fit(X_train, y_train)\n",
    "    viz = plot_roc_curve(rfc, X_test, y_test,                  \n",
    "                         name='ROC fold {}'.format(i),\n",
    "                         alpha=0.3, lw=1, ax=ax)\n",
    "    interp_tpr = np.interp(mean_fpr, viz.fpr, viz.tpr)\n",
    "    interp_tpr[0] = 0.0\n",
    "    tprs.append(interp_tpr)\n",
    "    aucs.append(viz.roc_auc)\n",
    "    \n",
    "    \n",
    "\n",
    "ax.plot([0, 1], [0, 1], linestyle='--', lw=2, color='r',\n",
    "        label='Chance', alpha=.8)\n",
    "\n",
    "mean_tpr = np.mean(tprs, axis=0)\n",
    "mean_tpr[-1] = 1.0\n",
    "mean_auc = auc(mean_fpr, mean_tpr)\n",
    "std_auc = np.std(aucs)\n",
    "ax.plot(mean_fpr, mean_tpr, color='b',\n",
    "        label=r'Mean ROC (AUC = %0.2f $\\pm$ %0.2f)' % (mean_auc, std_auc),\n",
    "        lw=2, alpha=.8)\n",
    "\n",
    "std_tpr = np.std(tprs, axis=0)\n",
    "tprs_upper = np.minimum(mean_tpr + std_tpr, 1)\n",
    "tprs_lower = np.maximum(mean_tpr - std_tpr, 0)\n",
    "ax.fill_between(mean_fpr, tprs_lower, tprs_upper, color='grey', alpha=.2,\n",
    "                label=r'$\\pm$ 1 std. dev.')\n",
    "\n",
    "ax.set(xlim=[-0.05, 1.05], ylim=[-0.05, 1.05],\n",
    "       title=\"Receiver operating characteristic (ROC) curves\")\n",
    "ax.legend(loc=\"lower right\")\n",
    "plt.show()"
   ]
  },
  {
   "cell_type": "code",
   "execution_count": null,
   "metadata": {},
   "outputs": [],
   "source": [
    "# Monte Carlo simulations \n",
    "n_samples = X.shape[0]\n",
    "cv = ShuffleSplit(n_splits=50, random_state=0, test_size=0.2)\n",
    "cross_val_score(rfc, X_test, y_test, cv=cv, scoring='roc_auc')"
   ]
  }
 ],
 "metadata": {
  "kernelspec": {
   "display_name": "Python 3",
   "language": "python",
   "name": "python3"
  },
  "language_info": {
   "codemirror_mode": {
    "name": "ipython",
    "version": 3
   },
   "file_extension": ".py",
   "mimetype": "text/x-python",
   "name": "python",
   "nbconvert_exporter": "python",
   "pygments_lexer": "ipython3",
   "version": "3.8.5"
  }
 },
 "nbformat": 4,
 "nbformat_minor": 4
}
